{
  "nbformat": 4,
  "nbformat_minor": 0,
  "metadata": {
    "colab": {
      "name": "Stock_price_prediction",
      "provenance": []
    },
    "kernelspec": {
      "name": "python3",
      "display_name": "Python 3"
    },
    "accelerator": "GPU"
  },
  "cells": [
    {
      "cell_type": "code",
      "metadata": {
        "id": "dI8WKdhEI0gl",
        "outputId": "d66f5809-c912-4b3c-e887-ffbaf8efdade",
        "colab": {
          "base_uri": "https://localhost:8080/",
          "height": 70
        }
      },
      "source": [
        "import pandas as pd\n",
        "import numpy as np\n",
        "import matplotlib.pyplot as plt\n",
        "import pandas_datareader as pdr\n",
        "from statsmodels.tsa.stattools import adfuller\n",
        "from sklearn.preprocessing import MinMaxScaler\n",
        "from pandas.plotting import autocorrelation_plot\n",
        "from statsmodels.graphics.tsaplots import plot_pacf\n",
        "from statsmodels.tsa.arima_model import ARIMA\n"
      ],
      "execution_count": 1,
      "outputs": [
        {
          "output_type": "stream",
          "text": [
            "/usr/local/lib/python3.6/dist-packages/statsmodels/tools/_testing.py:19: FutureWarning: pandas.util.testing is deprecated. Use the functions in the public API at pandas.testing instead.\n",
            "  import pandas.util.testing as tm\n"
          ],
          "name": "stderr"
        }
      ]
    },
    {
      "cell_type": "code",
      "metadata": {
        "id": "Oo_A-46aI9Tk"
      },
      "source": [
        "api = '9fe422e6b534a441f6ebf51a7c1c5920ee4ea99f'"
      ],
      "execution_count": 2,
      "outputs": []
    },
    {
      "cell_type": "code",
      "metadata": {
        "id": "i7T6tPlKJL5i"
      },
      "source": [
        "stock = 'GOOGL'"
      ],
      "execution_count": 3,
      "outputs": []
    },
    {
      "cell_type": "code",
      "metadata": {
        "id": "sn-UiBnuJd0L"
      },
      "source": [
        "data = pdr.get_data_tiingo(stock,api_key = api)"
      ],
      "execution_count": 4,
      "outputs": []
    },
    {
      "cell_type": "code",
      "metadata": {
        "id": "JoV3MduKKsLP",
        "outputId": "34f1cae6-73c2-4f6b-f786-fd5bd161c69f",
        "colab": {
          "base_uri": "https://localhost:8080/",
          "height": 195
        }
      },
      "source": [
        "data.reset_index(inplace=True)\n",
        "#data.set_index('date',inplace=True)\n",
        "data.head()"
      ],
      "execution_count": 5,
      "outputs": [
        {
          "output_type": "execute_result",
          "data": {
            "text/html": [
              "<div>\n",
              "<style scoped>\n",
              "    .dataframe tbody tr th:only-of-type {\n",
              "        vertical-align: middle;\n",
              "    }\n",
              "\n",
              "    .dataframe tbody tr th {\n",
              "        vertical-align: top;\n",
              "    }\n",
              "\n",
              "    .dataframe thead th {\n",
              "        text-align: right;\n",
              "    }\n",
              "</style>\n",
              "<table border=\"1\" class=\"dataframe\">\n",
              "  <thead>\n",
              "    <tr style=\"text-align: right;\">\n",
              "      <th></th>\n",
              "      <th>symbol</th>\n",
              "      <th>date</th>\n",
              "      <th>close</th>\n",
              "      <th>high</th>\n",
              "      <th>low</th>\n",
              "      <th>open</th>\n",
              "      <th>volume</th>\n",
              "      <th>adjClose</th>\n",
              "      <th>adjHigh</th>\n",
              "      <th>adjLow</th>\n",
              "      <th>adjOpen</th>\n",
              "      <th>adjVolume</th>\n",
              "      <th>divCash</th>\n",
              "      <th>splitFactor</th>\n",
              "    </tr>\n",
              "  </thead>\n",
              "  <tbody>\n",
              "    <tr>\n",
              "      <th>0</th>\n",
              "      <td>GOOGL</td>\n",
              "      <td>2015-10-13 00:00:00+00:00</td>\n",
              "      <td>683.17</td>\n",
              "      <td>688.4600</td>\n",
              "      <td>673.108</td>\n",
              "      <td>674.26</td>\n",
              "      <td>2122338</td>\n",
              "      <td>683.17</td>\n",
              "      <td>688.4600</td>\n",
              "      <td>673.108</td>\n",
              "      <td>674.26</td>\n",
              "      <td>2122338</td>\n",
              "      <td>0.0</td>\n",
              "      <td>1.0</td>\n",
              "    </tr>\n",
              "    <tr>\n",
              "      <th>1</th>\n",
              "      <td>GOOGL</td>\n",
              "      <td>2015-10-14 00:00:00+00:00</td>\n",
              "      <td>680.41</td>\n",
              "      <td>690.0400</td>\n",
              "      <td>678.900</td>\n",
              "      <td>683.73</td>\n",
              "      <td>1564582</td>\n",
              "      <td>680.41</td>\n",
              "      <td>690.0400</td>\n",
              "      <td>678.900</td>\n",
              "      <td>683.73</td>\n",
              "      <td>1564582</td>\n",
              "      <td>0.0</td>\n",
              "      <td>1.0</td>\n",
              "    </tr>\n",
              "    <tr>\n",
              "      <th>2</th>\n",
              "      <td>GOOGL</td>\n",
              "      <td>2015-10-15 00:00:00+00:00</td>\n",
              "      <td>693.02</td>\n",
              "      <td>694.1600</td>\n",
              "      <td>684.390</td>\n",
              "      <td>685.25</td>\n",
              "      <td>2357829</td>\n",
              "      <td>693.02</td>\n",
              "      <td>694.1600</td>\n",
              "      <td>684.390</td>\n",
              "      <td>685.25</td>\n",
              "      <td>2357829</td>\n",
              "      <td>0.0</td>\n",
              "      <td>1.0</td>\n",
              "    </tr>\n",
              "    <tr>\n",
              "      <th>3</th>\n",
              "      <td>GOOGL</td>\n",
              "      <td>2015-10-16 00:00:00+00:00</td>\n",
              "      <td>695.32</td>\n",
              "      <td>696.2200</td>\n",
              "      <td>689.100</td>\n",
              "      <td>695.40</td>\n",
              "      <td>1815759</td>\n",
              "      <td>695.32</td>\n",
              "      <td>696.2200</td>\n",
              "      <td>689.100</td>\n",
              "      <td>695.40</td>\n",
              "      <td>1815759</td>\n",
              "      <td>0.0</td>\n",
              "      <td>1.0</td>\n",
              "    </tr>\n",
              "    <tr>\n",
              "      <th>4</th>\n",
              "      <td>GOOGL</td>\n",
              "      <td>2015-10-19 00:00:00+00:00</td>\n",
              "      <td>699.95</td>\n",
              "      <td>700.2397</td>\n",
              "      <td>692.210</td>\n",
              "      <td>694.00</td>\n",
              "      <td>1508585</td>\n",
              "      <td>699.95</td>\n",
              "      <td>700.2397</td>\n",
              "      <td>692.210</td>\n",
              "      <td>694.00</td>\n",
              "      <td>1508585</td>\n",
              "      <td>0.0</td>\n",
              "      <td>1.0</td>\n",
              "    </tr>\n",
              "  </tbody>\n",
              "</table>\n",
              "</div>"
            ],
            "text/plain": [
              "  symbol                      date   close  ...  adjVolume  divCash  splitFactor\n",
              "0  GOOGL 2015-10-13 00:00:00+00:00  683.17  ...    2122338      0.0          1.0\n",
              "1  GOOGL 2015-10-14 00:00:00+00:00  680.41  ...    1564582      0.0          1.0\n",
              "2  GOOGL 2015-10-15 00:00:00+00:00  693.02  ...    2357829      0.0          1.0\n",
              "3  GOOGL 2015-10-16 00:00:00+00:00  695.32  ...    1815759      0.0          1.0\n",
              "4  GOOGL 2015-10-19 00:00:00+00:00  699.95  ...    1508585      0.0          1.0\n",
              "\n",
              "[5 rows x 14 columns]"
            ]
          },
          "metadata": {
            "tags": []
          },
          "execution_count": 5
        }
      ]
    },
    {
      "cell_type": "code",
      "metadata": {
        "id": "A9eVcZ2ZJrKX",
        "outputId": "ff3c2942-f30d-45ed-bd36-3eec99f9a8af",
        "colab": {
          "base_uri": "https://localhost:8080/",
          "height": 195
        }
      },
      "source": [
        "data.tail()"
      ],
      "execution_count": 6,
      "outputs": [
        {
          "output_type": "execute_result",
          "data": {
            "text/html": [
              "<div>\n",
              "<style scoped>\n",
              "    .dataframe tbody tr th:only-of-type {\n",
              "        vertical-align: middle;\n",
              "    }\n",
              "\n",
              "    .dataframe tbody tr th {\n",
              "        vertical-align: top;\n",
              "    }\n",
              "\n",
              "    .dataframe thead th {\n",
              "        text-align: right;\n",
              "    }\n",
              "</style>\n",
              "<table border=\"1\" class=\"dataframe\">\n",
              "  <thead>\n",
              "    <tr style=\"text-align: right;\">\n",
              "      <th></th>\n",
              "      <th>symbol</th>\n",
              "      <th>date</th>\n",
              "      <th>close</th>\n",
              "      <th>high</th>\n",
              "      <th>low</th>\n",
              "      <th>open</th>\n",
              "      <th>volume</th>\n",
              "      <th>adjClose</th>\n",
              "      <th>adjHigh</th>\n",
              "      <th>adjLow</th>\n",
              "      <th>adjOpen</th>\n",
              "      <th>adjVolume</th>\n",
              "      <th>divCash</th>\n",
              "      <th>splitFactor</th>\n",
              "    </tr>\n",
              "  </thead>\n",
              "  <tbody>\n",
              "    <tr>\n",
              "      <th>1253</th>\n",
              "      <td>GOOGL</td>\n",
              "      <td>2020-10-05 00:00:00+00:00</td>\n",
              "      <td>1482.83</td>\n",
              "      <td>1484.7000</td>\n",
              "      <td>1460.09</td>\n",
              "      <td>1462.65</td>\n",
              "      <td>1080058</td>\n",
              "      <td>1482.83</td>\n",
              "      <td>1484.7000</td>\n",
              "      <td>1460.09</td>\n",
              "      <td>1462.65</td>\n",
              "      <td>1080058</td>\n",
              "      <td>0.0</td>\n",
              "      <td>1.0</td>\n",
              "    </tr>\n",
              "    <tr>\n",
              "      <th>1254</th>\n",
              "      <td>GOOGL</td>\n",
              "      <td>2020-10-06 00:00:00+00:00</td>\n",
              "      <td>1451.02</td>\n",
              "      <td>1484.5200</td>\n",
              "      <td>1445.01</td>\n",
              "      <td>1475.50</td>\n",
              "      <td>1304752</td>\n",
              "      <td>1451.02</td>\n",
              "      <td>1484.5200</td>\n",
              "      <td>1445.01</td>\n",
              "      <td>1475.50</td>\n",
              "      <td>1304752</td>\n",
              "      <td>0.0</td>\n",
              "      <td>1.0</td>\n",
              "    </tr>\n",
              "    <tr>\n",
              "      <th>1255</th>\n",
              "      <td>GOOGL</td>\n",
              "      <td>2020-10-07 00:00:00+00:00</td>\n",
              "      <td>1459.14</td>\n",
              "      <td>1468.9700</td>\n",
              "      <td>1433.23</td>\n",
              "      <td>1459.31</td>\n",
              "      <td>1805448</td>\n",
              "      <td>1459.14</td>\n",
              "      <td>1468.9700</td>\n",
              "      <td>1433.23</td>\n",
              "      <td>1459.31</td>\n",
              "      <td>1805448</td>\n",
              "      <td>0.0</td>\n",
              "      <td>1.0</td>\n",
              "    </tr>\n",
              "    <tr>\n",
              "      <th>1256</th>\n",
              "      <td>GOOGL</td>\n",
              "      <td>2020-10-08 00:00:00+00:00</td>\n",
              "      <td>1483.43</td>\n",
              "      <td>1488.0275</td>\n",
              "      <td>1465.45</td>\n",
              "      <td>1465.45</td>\n",
              "      <td>1303802</td>\n",
              "      <td>1483.43</td>\n",
              "      <td>1488.0275</td>\n",
              "      <td>1465.45</td>\n",
              "      <td>1465.45</td>\n",
              "      <td>1303802</td>\n",
              "      <td>0.0</td>\n",
              "      <td>1.0</td>\n",
              "    </tr>\n",
              "    <tr>\n",
              "      <th>1257</th>\n",
              "      <td>GOOGL</td>\n",
              "      <td>2020-10-09 00:00:00+00:00</td>\n",
              "      <td>1510.45</td>\n",
              "      <td>1511.8500</td>\n",
              "      <td>1487.00</td>\n",
              "      <td>1492.86</td>\n",
              "      <td>1648340</td>\n",
              "      <td>1510.45</td>\n",
              "      <td>1511.8500</td>\n",
              "      <td>1487.00</td>\n",
              "      <td>1492.86</td>\n",
              "      <td>1648340</td>\n",
              "      <td>0.0</td>\n",
              "      <td>1.0</td>\n",
              "    </tr>\n",
              "  </tbody>\n",
              "</table>\n",
              "</div>"
            ],
            "text/plain": [
              "     symbol                      date    close  ...  adjVolume  divCash  splitFactor\n",
              "1253  GOOGL 2020-10-05 00:00:00+00:00  1482.83  ...    1080058      0.0          1.0\n",
              "1254  GOOGL 2020-10-06 00:00:00+00:00  1451.02  ...    1304752      0.0          1.0\n",
              "1255  GOOGL 2020-10-07 00:00:00+00:00  1459.14  ...    1805448      0.0          1.0\n",
              "1256  GOOGL 2020-10-08 00:00:00+00:00  1483.43  ...    1303802      0.0          1.0\n",
              "1257  GOOGL 2020-10-09 00:00:00+00:00  1510.45  ...    1648340      0.0          1.0\n",
              "\n",
              "[5 rows x 14 columns]"
            ]
          },
          "metadata": {
            "tags": []
          },
          "execution_count": 6
        }
      ]
    },
    {
      "cell_type": "code",
      "metadata": {
        "id": "viQIvrMZJ7Xn",
        "outputId": "e44e160b-b507-40bd-f4eb-fc80b71100c3",
        "colab": {
          "base_uri": "https://localhost:8080/",
          "height": 118
        }
      },
      "source": [
        "data['close'].head()"
      ],
      "execution_count": 7,
      "outputs": [
        {
          "output_type": "execute_result",
          "data": {
            "text/plain": [
              "0    683.17\n",
              "1    680.41\n",
              "2    693.02\n",
              "3    695.32\n",
              "4    699.95\n",
              "Name: close, dtype: float64"
            ]
          },
          "metadata": {
            "tags": []
          },
          "execution_count": 7
        }
      ]
    },
    {
      "cell_type": "code",
      "metadata": {
        "id": "qlD-A47PJyOD",
        "outputId": "13e7661e-5bdb-44cf-82b0-00b9fd14f136",
        "colab": {
          "base_uri": "https://localhost:8080/",
          "height": 282
        }
      },
      "source": [
        "plt.plot(data['close'])"
      ],
      "execution_count": 8,
      "outputs": [
        {
          "output_type": "execute_result",
          "data": {
            "text/plain": [
              "[<matplotlib.lines.Line2D at 0x7f78fc24f2b0>]"
            ]
          },
          "metadata": {
            "tags": []
          },
          "execution_count": 8
        },
        {
          "output_type": "display_data",
          "data": {
            "image/png": "[encoded data removed]",
            "text/plain": [
              "<Figure size 432x288 with 1 Axes>"
            ]
          },
          "metadata": {
            "tags": [],
            "needs_background": "light"
          }
        }
      ]
    },
    {
      "cell_type": "code",
      "metadata": {
        "id": "iDkAc0dBXm96",
        "outputId": "81b2e315-c9e0-41df-ba90-3b0566635918",
        "colab": {
          "base_uri": "https://localhost:8080/",
          "height": 34
        }
      },
      "source": [
        "max(data['close'])"
      ],
      "execution_count": 9,
      "outputs": [
        {
          "output_type": "execute_result",
          "data": {
            "text/plain": [
              "1717.39"
            ]
          },
          "metadata": {
            "tags": []
          },
          "execution_count": 9
        }
      ]
    },
    {
      "cell_type": "code",
      "metadata": {
        "id": "8m6nQGbpSWgO"
      },
      "source": [
        "X = data['close']"
      ],
      "execution_count": 10,
      "outputs": []
    },
    {
      "cell_type": "code",
      "metadata": {
        "id": "2cH3UaN8WAxF"
      },
      "source": [
        "scaler = MinMaxScaler(feature_range=(0,1))\n",
        "X=scaler.fit_transform(np.array(X).reshape(-1,1))"
      ],
      "execution_count": 11,
      "outputs": []
    },
    {
      "cell_type": "code",
      "metadata": {
        "id": "dywFfAVNW_zL"
      },
      "source": [
        "X = pd.DataFrame(X)\n",
        "X = pd.DataFrame(X[0]).set_index(data['date'])"
      ],
      "execution_count": 12,
      "outputs": []
    },
    {
      "cell_type": "code",
      "metadata": {
        "id": "RdRuxK-EXKpu",
        "outputId": "474565ed-cba5-4b61-c0be-09895957113e",
        "colab": {
          "base_uri": "https://localhost:8080/",
          "height": 225
        }
      },
      "source": [
        "X.head()"
      ],
      "execution_count": 13,
      "outputs": [
        {
          "output_type": "execute_result",
          "data": {
            "text/html": [
              "<div>\n",
              "<style scoped>\n",
              "    .dataframe tbody tr th:only-of-type {\n",
              "        vertical-align: middle;\n",
              "    }\n",
              "\n",
              "    .dataframe tbody tr th {\n",
              "        vertical-align: top;\n",
              "    }\n",
              "\n",
              "    .dataframe thead th {\n",
              "        text-align: right;\n",
              "    }\n",
              "</style>\n",
              "<table border=\"1\" class=\"dataframe\">\n",
              "  <thead>\n",
              "    <tr style=\"text-align: right;\">\n",
              "      <th></th>\n",
              "      <th>0</th>\n",
              "    </tr>\n",
              "    <tr>\n",
              "      <th>date</th>\n",
              "      <th></th>\n",
              "    </tr>\n",
              "  </thead>\n",
              "  <tbody>\n",
              "    <tr>\n",
              "      <th>2015-10-13 00:00:00+00:00</th>\n",
              "      <td>0.010874</td>\n",
              "    </tr>\n",
              "    <tr>\n",
              "      <th>2015-10-14 00:00:00+00:00</th>\n",
              "      <td>0.008235</td>\n",
              "    </tr>\n",
              "    <tr>\n",
              "      <th>2015-10-15 00:00:00+00:00</th>\n",
              "      <td>0.020295</td>\n",
              "    </tr>\n",
              "    <tr>\n",
              "      <th>2015-10-16 00:00:00+00:00</th>\n",
              "      <td>0.022494</td>\n",
              "    </tr>\n",
              "    <tr>\n",
              "      <th>2015-10-19 00:00:00+00:00</th>\n",
              "      <td>0.026923</td>\n",
              "    </tr>\n",
              "  </tbody>\n",
              "</table>\n",
              "</div>"
            ],
            "text/plain": [
              "                                  0\n",
              "date                               \n",
              "2015-10-13 00:00:00+00:00  0.010874\n",
              "2015-10-14 00:00:00+00:00  0.008235\n",
              "2015-10-15 00:00:00+00:00  0.020295\n",
              "2015-10-16 00:00:00+00:00  0.022494\n",
              "2015-10-19 00:00:00+00:00  0.026923"
            ]
          },
          "metadata": {
            "tags": []
          },
          "execution_count": 13
        }
      ]
    },
    {
      "cell_type": "code",
      "metadata": {
        "id": "Wt36-djmZdLD",
        "outputId": "082fc028-1d5b-4eba-d9ea-99e12341f7c1",
        "colab": {
          "base_uri": "https://localhost:8080/",
          "height": 118
        }
      },
      "source": [
        "result = adfuller(X[0])\n",
        "print('ADF Statistic: %f' % result[0])\n",
        "print('p-value: %f' % result[1])\n",
        "print('Critical Values:')\n",
        "for key, value in result[4].items():\n",
        "\tprint('\\t%s: %.3f' % (key, value))"
      ],
      "execution_count": 14,
      "outputs": [
        {
          "output_type": "stream",
          "text": [
            "ADF Statistic: -0.952692\n",
            "p-value: 0.770126\n",
            "Critical Values:\n",
            "\t1%: -3.436\n",
            "\t5%: -2.864\n",
            "\t10%: -2.568\n"
          ],
          "name": "stdout"
        }
      ]
    },
    {
      "cell_type": "code",
      "metadata": {
        "id": "Ux9dF9jBroh6"
      },
      "source": [
        "def create_dataset(dataset, time_step=1):\n",
        "\tdataX, dataY = [], []\n",
        "\tfor i in range(len(dataset)-time_step-1):\n",
        "\t\ta = dataset[i:(i+time_step), 0]   ###i=0, 0,1,2,3-----99   100 \n",
        "\t\tdataX.append(a)\n",
        "\t\tdataY.append(dataset[i + time_step, 0])\n",
        "\treturn np.array(dataX), np.array(dataY)"
      ],
      "execution_count": 15,
      "outputs": []
    },
    {
      "cell_type": "code",
      "metadata": {
        "id": "gqJnVfIjkCYj"
      },
      "source": [
        "fraction = int(len(X)*0.8)\n",
        "train = X[:fraction]\n",
        "test = X[fraction:]"
      ],
      "execution_count": 16,
      "outputs": []
    },
    {
      "cell_type": "code",
      "metadata": {
        "id": "q9B4UtkKryZY"
      },
      "source": [
        "time_step = 100\n",
        "X_train, y_train = create_dataset(train.values, time_step)\n",
        "X_test, y_test = create_dataset(test.values,time_step)"
      ],
      "execution_count": 17,
      "outputs": []
    },
    {
      "cell_type": "code",
      "metadata": {
        "id": "v2l-GwP-sZNC"
      },
      "source": [
        "X_train =X_train.reshape(X_train.shape[0],X_train.shape[1] , 1)\n",
        "X_test = X_test.reshape(X_test.shape[0],X_test.shape[1] , 1)"
      ],
      "execution_count": 18,
      "outputs": []
    },
    {
      "cell_type": "code",
      "metadata": {
        "id": "c7KQC_-1tlUK"
      },
      "source": [
        "from keras.models import Sequential\n",
        "from keras.layers import LSTM\n",
        "from keras.layers import Dense"
      ],
      "execution_count": 19,
      "outputs": []
    },
    {
      "cell_type": "code",
      "metadata": {
        "id": "j051gqGot7Ut"
      },
      "source": [
        "lstm_model = Sequential()\n",
        "lstm_model.add(LSTM(units = 50, return_sequences=True, input_shape = (X_train.shape[1],1)))\n",
        "lstm_model.add(LSTM(50,return_sequences=True))\n",
        "lstm_model.add(LSTM(50))\n",
        "lstm_model.add(Dense(1))\n",
        "lstm_model.compile(loss='mean_squared_error',optimizer='adam')"
      ],
      "execution_count": 20,
      "outputs": []
    },
    {
      "cell_type": "code",
      "metadata": {
        "id": "_TB6EiSrumGb",
        "outputId": "05acac09-a197-48d4-a548-20924f098c83",
        "colab": {
          "base_uri": "https://localhost:8080/",
          "height": 286
        }
      },
      "source": [
        "lstm_model.summary()"
      ],
      "execution_count": 21,
      "outputs": [
        {
          "output_type": "stream",
          "text": [
            "Model: \"sequential\"\n",
            "_________________________________________________________________\n",
            "Layer (type)                 Output Shape              Param #   \n",
            "=================================================================\n",
            "lstm (LSTM)                  (None, 100, 50)           10400     \n",
            "_________________________________________________________________\n",
            "lstm_1 (LSTM)                (None, 100, 50)           20200     \n",
            "_________________________________________________________________\n",
            "lstm_2 (LSTM)                (None, 50)                20200     \n",
            "_________________________________________________________________\n",
            "dense (Dense)                (None, 1)                 51        \n",
            "=================================================================\n",
            "Total params: 50,851\n",
            "Trainable params: 50,851\n",
            "Non-trainable params: 0\n",
            "_________________________________________________________________\n"
          ],
          "name": "stdout"
        }
      ]
    },
    {
      "cell_type": "code",
      "metadata": {
        "id": "XFIZHc6wuvFR",
        "outputId": "866f7352-8e7f-4dea-bee1-868473b32598",
        "colab": {
          "base_uri": "https://localhost:8080/",
          "height": 1000
        }
      },
      "source": [
        "lstm_model.fit(X_train,y_train,validation_data=(X_test,y_test),epochs=100,batch_size=64,verbose=1)"
      ],
      "execution_count": 22,
      "outputs": [
        {
          "output_type": "stream",
          "text": [
            "Epoch 1/100\n",
            "15/15 [==============================] - 1s 76ms/step - loss: 0.0299 - val_loss: 0.0690\n",
            "Epoch 2/100\n",
            "15/15 [==============================] - 0s 16ms/step - loss: 0.0046 - val_loss: 0.0165\n",
            "Epoch 3/100\n",
            "15/15 [==============================] - 0s 16ms/step - loss: 0.0017 - val_loss: 0.0104\n",
            "Epoch 4/100\n",
            "15/15 [==============================] - 0s 15ms/step - loss: 0.0012 - val_loss: 0.0092\n",
            "Epoch 5/100\n",
            "15/15 [==============================] - 0s 16ms/step - loss: 0.0012 - val_loss: 0.0100\n",
            "Epoch 6/100\n",
            "15/15 [==============================] - 0s 15ms/step - loss: 0.0011 - val_loss: 0.0106\n",
            "Epoch 7/100\n",
            "15/15 [==============================] - 0s 16ms/step - loss: 0.0012 - val_loss: 0.0103\n",
            "Epoch 8/100\n",
            "15/15 [==============================] - 0s 15ms/step - loss: 0.0011 - val_loss: 0.0101\n",
            "Epoch 9/100\n",
            "15/15 [==============================] - 0s 16ms/step - loss: 0.0011 - val_loss: 0.0092\n",
            "Epoch 10/100\n",
            "15/15 [==============================] - 0s 17ms/step - loss: 0.0011 - val_loss: 0.0095\n",
            "Epoch 11/100\n",
            "15/15 [==============================] - 0s 16ms/step - loss: 0.0011 - val_loss: 0.0097\n",
            "Epoch 12/100\n",
            "15/15 [==============================] - 0s 15ms/step - loss: 0.0011 - val_loss: 0.0086\n",
            "Epoch 13/100\n",
            "15/15 [==============================] - 0s 17ms/step - loss: 0.0011 - val_loss: 0.0086\n",
            "Epoch 14/100\n",
            "15/15 [==============================] - 0s 15ms/step - loss: 0.0010 - val_loss: 0.0072\n",
            "Epoch 15/100\n",
            "15/15 [==============================] - 0s 16ms/step - loss: 0.0010 - val_loss: 0.0074\n",
            "Epoch 16/100\n",
            "15/15 [==============================] - 0s 16ms/step - loss: 9.7629e-04 - val_loss: 0.0085\n",
            "Epoch 17/100\n",
            "15/15 [==============================] - 0s 16ms/step - loss: 9.6605e-04 - val_loss: 0.0078\n",
            "Epoch 18/100\n",
            "15/15 [==============================] - 0s 15ms/step - loss: 0.0011 - val_loss: 0.0056\n",
            "Epoch 19/100\n",
            "15/15 [==============================] - 0s 16ms/step - loss: 9.9629e-04 - val_loss: 0.0072\n",
            "Epoch 20/100\n",
            "15/15 [==============================] - 0s 17ms/step - loss: 9.5418e-04 - val_loss: 0.0096\n",
            "Epoch 21/100\n",
            "15/15 [==============================] - 0s 17ms/step - loss: 9.5794e-04 - val_loss: 0.0063\n",
            "Epoch 22/100\n",
            "15/15 [==============================] - 0s 16ms/step - loss: 0.0010 - val_loss: 0.0054\n",
            "Epoch 23/100\n",
            "15/15 [==============================] - 0s 16ms/step - loss: 9.5736e-04 - val_loss: 0.0071\n",
            "Epoch 24/100\n",
            "15/15 [==============================] - 0s 16ms/step - loss: 9.3745e-04 - val_loss: 0.0083\n",
            "Epoch 25/100\n",
            "15/15 [==============================] - 0s 18ms/step - loss: 9.7318e-04 - val_loss: 0.0065\n",
            "Epoch 26/100\n",
            "15/15 [==============================] - 0s 16ms/step - loss: 9.1576e-04 - val_loss: 0.0060\n",
            "Epoch 27/100\n",
            "15/15 [==============================] - 0s 16ms/step - loss: 8.6809e-04 - val_loss: 0.0079\n",
            "Epoch 28/100\n",
            "15/15 [==============================] - 0s 17ms/step - loss: 8.6743e-04 - val_loss: 0.0051\n",
            "Epoch 29/100\n",
            "15/15 [==============================] - 0s 16ms/step - loss: 8.9393e-04 - val_loss: 0.0072\n",
            "Epoch 30/100\n",
            "15/15 [==============================] - 0s 16ms/step - loss: 9.2335e-04 - val_loss: 0.0111\n",
            "Epoch 31/100\n",
            "15/15 [==============================] - 0s 17ms/step - loss: 9.7453e-04 - val_loss: 0.0064\n",
            "Epoch 32/100\n",
            "15/15 [==============================] - 0s 17ms/step - loss: 9.7125e-04 - val_loss: 0.0048\n",
            "Epoch 33/100\n",
            "15/15 [==============================] - 0s 16ms/step - loss: 8.8953e-04 - val_loss: 0.0073\n",
            "Epoch 34/100\n",
            "15/15 [==============================] - 0s 17ms/step - loss: 7.9330e-04 - val_loss: 0.0055\n",
            "Epoch 35/100\n",
            "15/15 [==============================] - 0s 16ms/step - loss: 8.0841e-04 - val_loss: 0.0054\n",
            "Epoch 36/100\n",
            "15/15 [==============================] - 0s 17ms/step - loss: 7.9190e-04 - val_loss: 0.0047\n",
            "Epoch 37/100\n",
            "15/15 [==============================] - 0s 16ms/step - loss: 7.7675e-04 - val_loss: 0.0082\n",
            "Epoch 38/100\n",
            "15/15 [==============================] - 0s 16ms/step - loss: 7.7109e-04 - val_loss: 0.0048\n",
            "Epoch 39/100\n",
            "15/15 [==============================] - 0s 16ms/step - loss: 7.5849e-04 - val_loss: 0.0037\n",
            "Epoch 40/100\n",
            "15/15 [==============================] - 0s 17ms/step - loss: 7.4848e-04 - val_loss: 0.0083\n",
            "Epoch 41/100\n",
            "15/15 [==============================] - 0s 17ms/step - loss: 7.7833e-04 - val_loss: 0.0069\n",
            "Epoch 42/100\n",
            "15/15 [==============================] - 0s 16ms/step - loss: 7.6104e-04 - val_loss: 0.0049\n",
            "Epoch 43/100\n",
            "15/15 [==============================] - 0s 16ms/step - loss: 8.7207e-04 - val_loss: 0.0045\n",
            "Epoch 44/100\n",
            "15/15 [==============================] - 0s 16ms/step - loss: 7.4424e-04 - val_loss: 0.0053\n",
            "Epoch 45/100\n",
            "15/15 [==============================] - 0s 16ms/step - loss: 7.0449e-04 - val_loss: 0.0060\n",
            "Epoch 46/100\n",
            "15/15 [==============================] - 0s 17ms/step - loss: 6.4937e-04 - val_loss: 0.0083\n",
            "Epoch 47/100\n",
            "15/15 [==============================] - 0s 15ms/step - loss: 8.0168e-04 - val_loss: 0.0025\n",
            "Epoch 48/100\n",
            "15/15 [==============================] - 0s 16ms/step - loss: 7.8385e-04 - val_loss: 0.0048\n",
            "Epoch 49/100\n",
            "15/15 [==============================] - 0s 19ms/step - loss: 6.3071e-04 - val_loss: 0.0052\n",
            "Epoch 50/100\n",
            "15/15 [==============================] - 0s 16ms/step - loss: 6.0955e-04 - val_loss: 0.0036\n",
            "Epoch 51/100\n",
            "15/15 [==============================] - 0s 17ms/step - loss: 6.1155e-04 - val_loss: 0.0067\n",
            "Epoch 52/100\n",
            "15/15 [==============================] - 0s 17ms/step - loss: 6.2135e-04 - val_loss: 0.0041\n",
            "Epoch 53/100\n",
            "15/15 [==============================] - 0s 17ms/step - loss: 6.1276e-04 - val_loss: 0.0024\n",
            "Epoch 54/100\n",
            "15/15 [==============================] - 0s 16ms/step - loss: 5.8458e-04 - val_loss: 0.0043\n",
            "Epoch 55/100\n",
            "15/15 [==============================] - 0s 18ms/step - loss: 5.3948e-04 - val_loss: 0.0039\n",
            "Epoch 56/100\n",
            "15/15 [==============================] - 0s 17ms/step - loss: 5.4259e-04 - val_loss: 0.0041\n",
            "Epoch 57/100\n",
            "15/15 [==============================] - 0s 16ms/step - loss: 5.3019e-04 - val_loss: 0.0044\n",
            "Epoch 58/100\n",
            "15/15 [==============================] - 0s 17ms/step - loss: 5.0058e-04 - val_loss: 0.0036\n",
            "Epoch 59/100\n",
            "15/15 [==============================] - 0s 16ms/step - loss: 5.0418e-04 - val_loss: 0.0037\n",
            "Epoch 60/100\n",
            "15/15 [==============================] - 0s 16ms/step - loss: 5.1487e-04 - val_loss: 0.0041\n",
            "Epoch 61/100\n",
            "15/15 [==============================] - 0s 16ms/step - loss: 5.1050e-04 - val_loss: 0.0037\n",
            "Epoch 62/100\n",
            "15/15 [==============================] - 0s 16ms/step - loss: 4.7653e-04 - val_loss: 0.0041\n",
            "Epoch 63/100\n",
            "15/15 [==============================] - 0s 16ms/step - loss: 4.7807e-04 - val_loss: 0.0057\n",
            "Epoch 64/100\n",
            "15/15 [==============================] - 0s 16ms/step - loss: 5.9479e-04 - val_loss: 0.0072\n",
            "Epoch 65/100\n",
            "15/15 [==============================] - 0s 16ms/step - loss: 5.4589e-04 - val_loss: 0.0051\n",
            "Epoch 66/100\n",
            "15/15 [==============================] - 0s 15ms/step - loss: 4.8856e-04 - val_loss: 0.0026\n",
            "Epoch 67/100\n",
            "15/15 [==============================] - 0s 17ms/step - loss: 4.5048e-04 - val_loss: 0.0022\n",
            "Epoch 68/100\n",
            "15/15 [==============================] - 0s 16ms/step - loss: 4.3472e-04 - val_loss: 0.0030\n",
            "Epoch 69/100\n",
            "15/15 [==============================] - 0s 16ms/step - loss: 4.3194e-04 - val_loss: 0.0045\n",
            "Epoch 70/100\n",
            "15/15 [==============================] - 0s 15ms/step - loss: 4.0529e-04 - val_loss: 0.0028\n",
            "Epoch 71/100\n",
            "15/15 [==============================] - 0s 16ms/step - loss: 4.1438e-04 - val_loss: 0.0027\n",
            "Epoch 72/100\n",
            "15/15 [==============================] - 0s 15ms/step - loss: 4.1329e-04 - val_loss: 0.0020\n",
            "Epoch 73/100\n",
            "15/15 [==============================] - 0s 16ms/step - loss: 4.8002e-04 - val_loss: 0.0032\n",
            "Epoch 74/100\n",
            "15/15 [==============================] - 0s 16ms/step - loss: 4.0010e-04 - val_loss: 0.0018\n",
            "Epoch 75/100\n",
            "15/15 [==============================] - 0s 16ms/step - loss: 4.5700e-04 - val_loss: 0.0018\n",
            "Epoch 76/100\n",
            "15/15 [==============================] - 0s 16ms/step - loss: 4.1029e-04 - val_loss: 0.0021\n",
            "Epoch 77/100\n",
            "15/15 [==============================] - 0s 16ms/step - loss: 4.0003e-04 - val_loss: 0.0035\n",
            "Epoch 78/100\n",
            "15/15 [==============================] - 0s 15ms/step - loss: 3.7257e-04 - val_loss: 0.0033\n",
            "Epoch 79/100\n",
            "15/15 [==============================] - 0s 17ms/step - loss: 3.8012e-04 - val_loss: 0.0022\n",
            "Epoch 80/100\n",
            "15/15 [==============================] - 0s 16ms/step - loss: 3.8743e-04 - val_loss: 0.0021\n",
            "Epoch 81/100\n",
            "15/15 [==============================] - 0s 16ms/step - loss: 3.9308e-04 - val_loss: 0.0025\n",
            "Epoch 82/100\n",
            "15/15 [==============================] - 0s 16ms/step - loss: 3.5038e-04 - val_loss: 0.0027\n",
            "Epoch 83/100\n",
            "15/15 [==============================] - 0s 16ms/step - loss: 3.4185e-04 - val_loss: 0.0017\n",
            "Epoch 84/100\n",
            "15/15 [==============================] - 0s 17ms/step - loss: 4.1188e-04 - val_loss: 0.0015\n",
            "Epoch 85/100\n",
            "15/15 [==============================] - 0s 16ms/step - loss: 4.2508e-04 - val_loss: 0.0038\n",
            "Epoch 86/100\n",
            "15/15 [==============================] - 0s 16ms/step - loss: 3.5405e-04 - val_loss: 0.0025\n",
            "Epoch 87/100\n",
            "15/15 [==============================] - 0s 16ms/step - loss: 3.3320e-04 - val_loss: 0.0018\n",
            "Epoch 88/100\n",
            "15/15 [==============================] - 0s 17ms/step - loss: 3.6524e-04 - val_loss: 0.0019\n",
            "Epoch 89/100\n",
            "15/15 [==============================] - 0s 15ms/step - loss: 4.2461e-04 - val_loss: 0.0022\n",
            "Epoch 90/100\n",
            "15/15 [==============================] - 0s 15ms/step - loss: 3.5083e-04 - val_loss: 0.0014\n",
            "Epoch 91/100\n",
            "15/15 [==============================] - 0s 16ms/step - loss: 3.5747e-04 - val_loss: 0.0014\n",
            "Epoch 92/100\n",
            "15/15 [==============================] - 0s 16ms/step - loss: 3.7936e-04 - val_loss: 0.0021\n",
            "Epoch 93/100\n",
            "15/15 [==============================] - 0s 15ms/step - loss: 3.0777e-04 - val_loss: 0.0043\n",
            "Epoch 94/100\n",
            "15/15 [==============================] - 0s 15ms/step - loss: 3.7744e-04 - val_loss: 0.0029\n",
            "Epoch 95/100\n",
            "15/15 [==============================] - 0s 16ms/step - loss: 3.5226e-04 - val_loss: 0.0044\n",
            "Epoch 96/100\n",
            "15/15 [==============================] - 0s 16ms/step - loss: 3.7066e-04 - val_loss: 0.0028\n",
            "Epoch 97/100\n",
            "15/15 [==============================] - 0s 16ms/step - loss: 3.1376e-04 - val_loss: 0.0035\n",
            "Epoch 98/100\n",
            "15/15 [==============================] - 0s 15ms/step - loss: 3.9169e-04 - val_loss: 0.0041\n",
            "Epoch 99/100\n",
            "15/15 [==============================] - 0s 16ms/step - loss: 3.1200e-04 - val_loss: 0.0045\n",
            "Epoch 100/100\n",
            "15/15 [==============================] - 0s 17ms/step - loss: 3.2616e-04 - val_loss: 0.0023\n"
          ],
          "name": "stdout"
        },
        {
          "output_type": "execute_result",
          "data": {
            "text/plain": [
              "<tensorflow.python.keras.callbacks.History at 0x7f786e34e630>"
            ]
          },
          "metadata": {
            "tags": []
          },
          "execution_count": 22
        }
      ]
    },
    {
      "cell_type": "code",
      "metadata": {
        "id": "025-jiHPu3gq"
      },
      "source": [
        "train_predict=lstm_model.predict(X_train)\n",
        "test_predict=lstm_model.predict(X_test)"
      ],
      "execution_count": 23,
      "outputs": []
    },
    {
      "cell_type": "code",
      "metadata": {
        "id": "B5EbICEGnb31",
        "outputId": "1e438e46-9e5d-49de-ac2a-a1c428caa883",
        "colab": {
          "base_uri": "https://localhost:8080/",
          "height": 34
        }
      },
      "source": [
        "train_predict.shape"
      ],
      "execution_count": 24,
      "outputs": [
        {
          "output_type": "execute_result",
          "data": {
            "text/plain": [
              "(905, 1)"
            ]
          },
          "metadata": {
            "tags": []
          },
          "execution_count": 24
        }
      ]
    },
    {
      "cell_type": "code",
      "metadata": {
        "id": "H44uoiX1P6PW",
        "outputId": "0e6ead1f-758c-451e-e8b3-4eb77a30fa85",
        "colab": {
          "base_uri": "https://localhost:8080/",
          "height": 34
        }
      },
      "source": [
        "test_predict.shape"
      ],
      "execution_count": 25,
      "outputs": [
        {
          "output_type": "execute_result",
          "data": {
            "text/plain": [
              "(151, 1)"
            ]
          },
          "metadata": {
            "tags": []
          },
          "execution_count": 25
        }
      ]
    },
    {
      "cell_type": "code",
      "metadata": {
        "id": "e3_EFj9DvCT-",
        "outputId": "e2ef457f-83fe-42bf-c136-2b68e63498cf",
        "colab": {
          "base_uri": "https://localhost:8080/",
          "height": 34
        }
      },
      "source": [
        "import math\n",
        "from sklearn.metrics import mean_squared_error\n",
        "math.sqrt(mean_squared_error(y_train,train_predict))"
      ],
      "execution_count": 26,
      "outputs": [
        {
          "output_type": "execute_result",
          "data": {
            "text/plain": [
              "0.01685942808921492"
            ]
          },
          "metadata": {
            "tags": []
          },
          "execution_count": 26
        }
      ]
    },
    {
      "cell_type": "code",
      "metadata": {
        "id": "UtnQvPyjvKN7",
        "outputId": "72d25403-3ca9-4908-ff80-6ab72f984e37",
        "colab": {
          "base_uri": "https://localhost:8080/",
          "height": 592
        }
      },
      "source": [
        "look_back=time_step\n",
        "df1 = X\n",
        "trainPredictPlot = np.empty_like(df1)\n",
        "trainPredictPlot[:, :] = np.nan\n",
        "trainPredictPlot[look_back:len(train_predict)+look_back, :] = scaler.inverse_transform(train_predict)\n",
        "# shift test predictions for plotting\n",
        "testPredictPlot = np.empty_like(df1)\n",
        "testPredictPlot[:, :] = np.nan\n",
        "testPredictPlot[len(train_predict)+(look_back*2)+1:len(df1)-1, :] = scaler.inverse_transform(test_predict)\n",
        "# plot baseline and predictions\n",
        "plt.figure(figsize=(20,10))\n",
        "plt.plot(scaler.inverse_transform(df1))\n",
        "plt.plot(trainPredictPlot)\n",
        "plt.plot(testPredictPlot)\n",
        "plt.show()"
      ],
      "execution_count": 27,
      "outputs": [
        {
          "output_type": "display_data",
          "data": {
            "image/png": "[encoded data removed]",
            "text/plain": [
              "<Figure size 1440x720 with 1 Axes>"
            ]
          },
          "metadata": {
            "tags": [],
            "needs_background": "light"
          }
        }
      ]
    },
    {
      "cell_type": "markdown",
      "metadata": {
        "id": "jsBTnQViy0Tb"
      },
      "source": [
        "Predicting the next 30 days closing values"
      ]
    },
    {
      "cell_type": "code",
      "metadata": {
        "id": "mCOFVVTmy5Zn"
      },
      "source": [
        "def future_pred(dataset, time_step,period):\n",
        "  dataY = []\n",
        "  for i in range(period):\n",
        "    a = dataset[-(time_step):]\n",
        "    a = a.reshape(1,time_step, 1)\n",
        "    pred = lstm_model.predict(a)\n",
        "    dataY.append(pred[0])\n",
        "    dataset = np.append(dataset,pred)\n",
        "  return np.array(dataY)"
      ],
      "execution_count": 28,
      "outputs": []
    },
    {
      "cell_type": "code",
      "metadata": {
        "id": "gOQ0lG6Ck3hj"
      },
      "source": [
        "future_data = np.array(test_predict[-time_step:]).reshape(-1,1)\n",
        "new_pred = future_pred(future_data,time_step,30)"
      ],
      "execution_count": 29,
      "outputs": []
    },
    {
      "cell_type": "code",
      "metadata": {
        "id": "rmga18-XW9Wk"
      },
      "source": [
        "vals = []\n",
        "i = 0\n",
        "for x in new_pred:\n",
        "  vals.append([x[0]]) "
      ],
      "execution_count": 30,
      "outputs": []
    },
    {
      "cell_type": "code",
      "metadata": {
        "id": "KbX-rwXA8YL7"
      },
      "source": [
        "closing =scaler.inverse_transform(df1).tolist()\n",
        "closing = closing + (scaler.inverse_transform(vals).tolist())\n",
        "close = []\n",
        "for c in closing:\n",
        "  close.append(c[0])"
      ],
      "execution_count": 31,
      "outputs": []
    },
    {
      "cell_type": "code",
      "metadata": {
        "id": "K2y_djlgREiV"
      },
      "source": [
        "import datetime\n",
        "dates = []\n",
        "for i in range(30):\n",
        "  dates.append(datetime.datetime.now() + datetime.timedelta(i))\n",
        "dates = list(pd.to_datetime(dates))\n",
        "date_index = list(df1.index)\n",
        "date_index = date_index + dates"
      ],
      "execution_count": 32,
      "outputs": []
    },
    {
      "cell_type": "code",
      "metadata": {
        "id": "aLJuUdPsWqG2",
        "outputId": "60be7f39-a022-48a3-fa21-79e38dc2485b",
        "colab": {
          "base_uri": "https://localhost:8080/",
          "height": 225
        }
      },
      "source": [
        "df3 = pd.DataFrame(zip(close,date_index),columns=['closing','date'])\n",
        "df3 = df3.set_index('date')\n",
        "df3.head()"
      ],
      "execution_count": 33,
      "outputs": [
        {
          "output_type": "execute_result",
          "data": {
            "text/html": [
              "<div>\n",
              "<style scoped>\n",
              "    .dataframe tbody tr th:only-of-type {\n",
              "        vertical-align: middle;\n",
              "    }\n",
              "\n",
              "    .dataframe tbody tr th {\n",
              "        vertical-align: top;\n",
              "    }\n",
              "\n",
              "    .dataframe thead th {\n",
              "        text-align: right;\n",
              "    }\n",
              "</style>\n",
              "<table border=\"1\" class=\"dataframe\">\n",
              "  <thead>\n",
              "    <tr style=\"text-align: right;\">\n",
              "      <th></th>\n",
              "      <th>closing</th>\n",
              "    </tr>\n",
              "    <tr>\n",
              "      <th>date</th>\n",
              "      <th></th>\n",
              "    </tr>\n",
              "  </thead>\n",
              "  <tbody>\n",
              "    <tr>\n",
              "      <th>2015-10-13 00:00:00+00:00</th>\n",
              "      <td>683.17</td>\n",
              "    </tr>\n",
              "    <tr>\n",
              "      <th>2015-10-14 00:00:00+00:00</th>\n",
              "      <td>680.41</td>\n",
              "    </tr>\n",
              "    <tr>\n",
              "      <th>2015-10-15 00:00:00+00:00</th>\n",
              "      <td>693.02</td>\n",
              "    </tr>\n",
              "    <tr>\n",
              "      <th>2015-10-16 00:00:00+00:00</th>\n",
              "      <td>695.32</td>\n",
              "    </tr>\n",
              "    <tr>\n",
              "      <th>2015-10-19 00:00:00+00:00</th>\n",
              "      <td>699.95</td>\n",
              "    </tr>\n",
              "  </tbody>\n",
              "</table>\n",
              "</div>"
            ],
            "text/plain": [
              "                           closing\n",
              "date                              \n",
              "2015-10-13 00:00:00+00:00   683.17\n",
              "2015-10-14 00:00:00+00:00   680.41\n",
              "2015-10-15 00:00:00+00:00   693.02\n",
              "2015-10-16 00:00:00+00:00   695.32\n",
              "2015-10-19 00:00:00+00:00   699.95"
            ]
          },
          "metadata": {
            "tags": []
          },
          "execution_count": 33
        }
      ]
    },
    {
      "cell_type": "code",
      "metadata": {
        "id": "HkmMsSGPX_O9",
        "outputId": "8a4f3539-c3ad-42da-b8cd-ef8d5a83cc93",
        "colab": {
          "base_uri": "https://localhost:8080/",
          "height": 225
        }
      },
      "source": [
        "df3.tail()"
      ],
      "execution_count": 34,
      "outputs": [
        {
          "output_type": "execute_result",
          "data": {
            "text/html": [
              "<div>\n",
              "<style scoped>\n",
              "    .dataframe tbody tr th:only-of-type {\n",
              "        vertical-align: middle;\n",
              "    }\n",
              "\n",
              "    .dataframe tbody tr th {\n",
              "        vertical-align: top;\n",
              "    }\n",
              "\n",
              "    .dataframe thead th {\n",
              "        text-align: right;\n",
              "    }\n",
              "</style>\n",
              "<table border=\"1\" class=\"dataframe\">\n",
              "  <thead>\n",
              "    <tr style=\"text-align: right;\">\n",
              "      <th></th>\n",
              "      <th>closing</th>\n",
              "    </tr>\n",
              "    <tr>\n",
              "      <th>date</th>\n",
              "      <th></th>\n",
              "    </tr>\n",
              "  </thead>\n",
              "  <tbody>\n",
              "    <tr>\n",
              "      <th>2020-11-05 21:44:21.002435</th>\n",
              "      <td>1162.105970</td>\n",
              "    </tr>\n",
              "    <tr>\n",
              "      <th>2020-11-06 21:44:21.002437</th>\n",
              "      <td>1156.991825</td>\n",
              "    </tr>\n",
              "    <tr>\n",
              "      <th>2020-11-07 21:44:21.002439</th>\n",
              "      <td>1152.011859</td>\n",
              "    </tr>\n",
              "    <tr>\n",
              "      <th>2020-11-08 21:44:21.002440</th>\n",
              "      <td>1147.182463</td>\n",
              "    </tr>\n",
              "    <tr>\n",
              "      <th>2020-11-09 21:44:21.002442</th>\n",
              "      <td>1142.526541</td>\n",
              "    </tr>\n",
              "  </tbody>\n",
              "</table>\n",
              "</div>"
            ],
            "text/plain": [
              "                                closing\n",
              "date                                   \n",
              "2020-11-05 21:44:21.002435  1162.105970\n",
              "2020-11-06 21:44:21.002437  1156.991825\n",
              "2020-11-07 21:44:21.002439  1152.011859\n",
              "2020-11-08 21:44:21.002440  1147.182463\n",
              "2020-11-09 21:44:21.002442  1142.526541"
            ]
          },
          "metadata": {
            "tags": []
          },
          "execution_count": 34
        }
      ]
    },
    {
      "cell_type": "code",
      "metadata": {
        "id": "xmijLbTEbNww",
        "outputId": "fb98c6d6-5e41-4fa3-9bdb-375b080a2752",
        "colab": {
          "base_uri": "https://localhost:8080/",
          "height": 225
        }
      },
      "source": [
        "df1.head()"
      ],
      "execution_count": 35,
      "outputs": [
        {
          "output_type": "execute_result",
          "data": {
            "text/html": [
              "<div>\n",
              "<style scoped>\n",
              "    .dataframe tbody tr th:only-of-type {\n",
              "        vertical-align: middle;\n",
              "    }\n",
              "\n",
              "    .dataframe tbody tr th {\n",
              "        vertical-align: top;\n",
              "    }\n",
              "\n",
              "    .dataframe thead th {\n",
              "        text-align: right;\n",
              "    }\n",
              "</style>\n",
              "<table border=\"1\" class=\"dataframe\">\n",
              "  <thead>\n",
              "    <tr style=\"text-align: right;\">\n",
              "      <th></th>\n",
              "      <th>0</th>\n",
              "    </tr>\n",
              "    <tr>\n",
              "      <th>date</th>\n",
              "      <th></th>\n",
              "    </tr>\n",
              "  </thead>\n",
              "  <tbody>\n",
              "    <tr>\n",
              "      <th>2015-10-13 00:00:00+00:00</th>\n",
              "      <td>0.010874</td>\n",
              "    </tr>\n",
              "    <tr>\n",
              "      <th>2015-10-14 00:00:00+00:00</th>\n",
              "      <td>0.008235</td>\n",
              "    </tr>\n",
              "    <tr>\n",
              "      <th>2015-10-15 00:00:00+00:00</th>\n",
              "      <td>0.020295</td>\n",
              "    </tr>\n",
              "    <tr>\n",
              "      <th>2015-10-16 00:00:00+00:00</th>\n",
              "      <td>0.022494</td>\n",
              "    </tr>\n",
              "    <tr>\n",
              "      <th>2015-10-19 00:00:00+00:00</th>\n",
              "      <td>0.026923</td>\n",
              "    </tr>\n",
              "  </tbody>\n",
              "</table>\n",
              "</div>"
            ],
            "text/plain": [
              "                                  0\n",
              "date                               \n",
              "2015-10-13 00:00:00+00:00  0.010874\n",
              "2015-10-14 00:00:00+00:00  0.008235\n",
              "2015-10-15 00:00:00+00:00  0.020295\n",
              "2015-10-16 00:00:00+00:00  0.022494\n",
              "2015-10-19 00:00:00+00:00  0.026923"
            ]
          },
          "metadata": {
            "tags": []
          },
          "execution_count": 35
        }
      ]
    },
    {
      "cell_type": "code",
      "metadata": {
        "id": "cE9ocGHKbkZJ"
      },
      "source": [
        "old = df3.iloc[:1258]"
      ],
      "execution_count": 36,
      "outputs": []
    },
    {
      "cell_type": "code",
      "metadata": {
        "id": "A0qL2UcTbsmu",
        "outputId": "8926f330-e7d6-407a-d4df-eb9541c17cf3",
        "colab": {
          "base_uri": "https://localhost:8080/",
          "height": 225
        }
      },
      "source": [
        "old.head()"
      ],
      "execution_count": 37,
      "outputs": [
        {
          "output_type": "execute_result",
          "data": {
            "text/html": [
              "<div>\n",
              "<style scoped>\n",
              "    .dataframe tbody tr th:only-of-type {\n",
              "        vertical-align: middle;\n",
              "    }\n",
              "\n",
              "    .dataframe tbody tr th {\n",
              "        vertical-align: top;\n",
              "    }\n",
              "\n",
              "    .dataframe thead th {\n",
              "        text-align: right;\n",
              "    }\n",
              "</style>\n",
              "<table border=\"1\" class=\"dataframe\">\n",
              "  <thead>\n",
              "    <tr style=\"text-align: right;\">\n",
              "      <th></th>\n",
              "      <th>closing</th>\n",
              "    </tr>\n",
              "    <tr>\n",
              "      <th>date</th>\n",
              "      <th></th>\n",
              "    </tr>\n",
              "  </thead>\n",
              "  <tbody>\n",
              "    <tr>\n",
              "      <th>2015-10-13 00:00:00+00:00</th>\n",
              "      <td>683.17</td>\n",
              "    </tr>\n",
              "    <tr>\n",
              "      <th>2015-10-14 00:00:00+00:00</th>\n",
              "      <td>680.41</td>\n",
              "    </tr>\n",
              "    <tr>\n",
              "      <th>2015-10-15 00:00:00+00:00</th>\n",
              "      <td>693.02</td>\n",
              "    </tr>\n",
              "    <tr>\n",
              "      <th>2015-10-16 00:00:00+00:00</th>\n",
              "      <td>695.32</td>\n",
              "    </tr>\n",
              "    <tr>\n",
              "      <th>2015-10-19 00:00:00+00:00</th>\n",
              "      <td>699.95</td>\n",
              "    </tr>\n",
              "  </tbody>\n",
              "</table>\n",
              "</div>"
            ],
            "text/plain": [
              "                           closing\n",
              "date                              \n",
              "2015-10-13 00:00:00+00:00   683.17\n",
              "2015-10-14 00:00:00+00:00   680.41\n",
              "2015-10-15 00:00:00+00:00   693.02\n",
              "2015-10-16 00:00:00+00:00   695.32\n",
              "2015-10-19 00:00:00+00:00   699.95"
            ]
          },
          "metadata": {
            "tags": []
          },
          "execution_count": 37
        }
      ]
    },
    {
      "cell_type": "code",
      "metadata": {
        "id": "UT-hbPiPbvKb",
        "outputId": "2ecbc678-ef75-4d57-8185-8f77535209c7",
        "colab": {
          "base_uri": "https://localhost:8080/",
          "height": 225
        }
      },
      "source": [
        "old.tail()"
      ],
      "execution_count": 38,
      "outputs": [
        {
          "output_type": "execute_result",
          "data": {
            "text/html": [
              "<div>\n",
              "<style scoped>\n",
              "    .dataframe tbody tr th:only-of-type {\n",
              "        vertical-align: middle;\n",
              "    }\n",
              "\n",
              "    .dataframe tbody tr th {\n",
              "        vertical-align: top;\n",
              "    }\n",
              "\n",
              "    .dataframe thead th {\n",
              "        text-align: right;\n",
              "    }\n",
              "</style>\n",
              "<table border=\"1\" class=\"dataframe\">\n",
              "  <thead>\n",
              "    <tr style=\"text-align: right;\">\n",
              "      <th></th>\n",
              "      <th>closing</th>\n",
              "    </tr>\n",
              "    <tr>\n",
              "      <th>date</th>\n",
              "      <th></th>\n",
              "    </tr>\n",
              "  </thead>\n",
              "  <tbody>\n",
              "    <tr>\n",
              "      <th>2020-10-05 00:00:00+00:00</th>\n",
              "      <td>1482.83</td>\n",
              "    </tr>\n",
              "    <tr>\n",
              "      <th>2020-10-06 00:00:00+00:00</th>\n",
              "      <td>1451.02</td>\n",
              "    </tr>\n",
              "    <tr>\n",
              "      <th>2020-10-07 00:00:00+00:00</th>\n",
              "      <td>1459.14</td>\n",
              "    </tr>\n",
              "    <tr>\n",
              "      <th>2020-10-08 00:00:00+00:00</th>\n",
              "      <td>1483.43</td>\n",
              "    </tr>\n",
              "    <tr>\n",
              "      <th>2020-10-09 00:00:00+00:00</th>\n",
              "      <td>1510.45</td>\n",
              "    </tr>\n",
              "  </tbody>\n",
              "</table>\n",
              "</div>"
            ],
            "text/plain": [
              "                           closing\n",
              "date                              \n",
              "2020-10-05 00:00:00+00:00  1482.83\n",
              "2020-10-06 00:00:00+00:00  1451.02\n",
              "2020-10-07 00:00:00+00:00  1459.14\n",
              "2020-10-08 00:00:00+00:00  1483.43\n",
              "2020-10-09 00:00:00+00:00  1510.45"
            ]
          },
          "metadata": {
            "tags": []
          },
          "execution_count": 38
        }
      ]
    },
    {
      "cell_type": "code",
      "metadata": {
        "id": "83nbf85wbyg7"
      },
      "source": [
        "new = df3.iloc[1258:]"
      ],
      "execution_count": 39,
      "outputs": []
    },
    {
      "cell_type": "code",
      "metadata": {
        "id": "0wc0Ystwb9Pe",
        "outputId": "682b67cd-5f5c-4a5b-fad0-3f7f04b3d00e",
        "colab": {
          "base_uri": "https://localhost:8080/",
          "height": 225
        }
      },
      "source": [
        "new.head()"
      ],
      "execution_count": 40,
      "outputs": [
        {
          "output_type": "execute_result",
          "data": {
            "text/html": [
              "<div>\n",
              "<style scoped>\n",
              "    .dataframe tbody tr th:only-of-type {\n",
              "        vertical-align: middle;\n",
              "    }\n",
              "\n",
              "    .dataframe tbody tr th {\n",
              "        vertical-align: top;\n",
              "    }\n",
              "\n",
              "    .dataframe thead th {\n",
              "        text-align: right;\n",
              "    }\n",
              "</style>\n",
              "<table border=\"1\" class=\"dataframe\">\n",
              "  <thead>\n",
              "    <tr style=\"text-align: right;\">\n",
              "      <th></th>\n",
              "      <th>closing</th>\n",
              "    </tr>\n",
              "    <tr>\n",
              "      <th>date</th>\n",
              "      <th></th>\n",
              "    </tr>\n",
              "  </thead>\n",
              "  <tbody>\n",
              "    <tr>\n",
              "      <th>2020-10-11 21:44:21.002382</th>\n",
              "      <td>1374.897217</td>\n",
              "    </tr>\n",
              "    <tr>\n",
              "      <th>2020-10-12 21:44:21.002390</th>\n",
              "      <td>1355.665327</td>\n",
              "    </tr>\n",
              "    <tr>\n",
              "      <th>2020-10-13 21:44:21.002393</th>\n",
              "      <td>1335.703584</td>\n",
              "    </tr>\n",
              "    <tr>\n",
              "      <th>2020-10-14 21:44:21.002395</th>\n",
              "      <td>1319.194169</td>\n",
              "    </tr>\n",
              "    <tr>\n",
              "      <th>2020-10-15 21:44:21.002397</th>\n",
              "      <td>1306.576266</td>\n",
              "    </tr>\n",
              "  </tbody>\n",
              "</table>\n",
              "</div>"
            ],
            "text/plain": [
              "                                closing\n",
              "date                                   \n",
              "2020-10-11 21:44:21.002382  1374.897217\n",
              "2020-10-12 21:44:21.002390  1355.665327\n",
              "2020-10-13 21:44:21.002393  1335.703584\n",
              "2020-10-14 21:44:21.002395  1319.194169\n",
              "2020-10-15 21:44:21.002397  1306.576266"
            ]
          },
          "metadata": {
            "tags": []
          },
          "execution_count": 40
        }
      ]
    },
    {
      "cell_type": "code",
      "metadata": {
        "id": "vnnRAt7Bb-Qi",
        "outputId": "629e3784-0cca-48af-c167-a0a856be6865",
        "colab": {
          "base_uri": "https://localhost:8080/",
          "height": 225
        }
      },
      "source": [
        "new.tail()"
      ],
      "execution_count": 41,
      "outputs": [
        {
          "output_type": "execute_result",
          "data": {
            "text/html": [
              "<div>\n",
              "<style scoped>\n",
              "    .dataframe tbody tr th:only-of-type {\n",
              "        vertical-align: middle;\n",
              "    }\n",
              "\n",
              "    .dataframe tbody tr th {\n",
              "        vertical-align: top;\n",
              "    }\n",
              "\n",
              "    .dataframe thead th {\n",
              "        text-align: right;\n",
              "    }\n",
              "</style>\n",
              "<table border=\"1\" class=\"dataframe\">\n",
              "  <thead>\n",
              "    <tr style=\"text-align: right;\">\n",
              "      <th></th>\n",
              "      <th>closing</th>\n",
              "    </tr>\n",
              "    <tr>\n",
              "      <th>date</th>\n",
              "      <th></th>\n",
              "    </tr>\n",
              "  </thead>\n",
              "  <tbody>\n",
              "    <tr>\n",
              "      <th>2020-11-05 21:44:21.002435</th>\n",
              "      <td>1162.105970</td>\n",
              "    </tr>\n",
              "    <tr>\n",
              "      <th>2020-11-06 21:44:21.002437</th>\n",
              "      <td>1156.991825</td>\n",
              "    </tr>\n",
              "    <tr>\n",
              "      <th>2020-11-07 21:44:21.002439</th>\n",
              "      <td>1152.011859</td>\n",
              "    </tr>\n",
              "    <tr>\n",
              "      <th>2020-11-08 21:44:21.002440</th>\n",
              "      <td>1147.182463</td>\n",
              "    </tr>\n",
              "    <tr>\n",
              "      <th>2020-11-09 21:44:21.002442</th>\n",
              "      <td>1142.526541</td>\n",
              "    </tr>\n",
              "  </tbody>\n",
              "</table>\n",
              "</div>"
            ],
            "text/plain": [
              "                                closing\n",
              "date                                   \n",
              "2020-11-05 21:44:21.002435  1162.105970\n",
              "2020-11-06 21:44:21.002437  1156.991825\n",
              "2020-11-07 21:44:21.002439  1152.011859\n",
              "2020-11-08 21:44:21.002440  1147.182463\n",
              "2020-11-09 21:44:21.002442  1142.526541"
            ]
          },
          "metadata": {
            "tags": []
          },
          "execution_count": 41
        }
      ]
    },
    {
      "cell_type": "code",
      "metadata": {
        "id": "dOg1ouTH8fNd",
        "outputId": "375bc4d4-843b-403c-c423-3cd76ed03aa2",
        "colab": {
          "base_uri": "https://localhost:8080/",
          "height": 592
        }
      },
      "source": [
        "plt.figure(figsize=(20,10))\n",
        "plt.plot(old['closing'])\n",
        "plt.plot(new['closing'])\n",
        "#plt.plot(testPredictPlot)\n",
        "plt.show()"
      ],
      "execution_count": 42,
      "outputs": [
        {
          "output_type": "display_data",
          "data": {
            "image/png": "[encoded data removed]",
            "text/plain": [
              "<Figure size 1440x720 with 1 Axes>"
            ]
          },
          "metadata": {
            "tags": [],
            "needs_background": "light"
          }
        }
      ]
    },
    {
      "cell_type": "code",
      "metadata": {
        "id": "w1CDEHxVctiF",
        "outputId": "37ca4e33-82c0-47eb-a7f8-cc4e524300d4",
        "colab": {
          "base_uri": "https://localhost:8080/",
          "height": 225
        }
      },
      "source": [
        "df3.head()"
      ],
      "execution_count": 43,
      "outputs": [
        {
          "output_type": "execute_result",
          "data": {
            "text/html": [
              "<div>\n",
              "<style scoped>\n",
              "    .dataframe tbody tr th:only-of-type {\n",
              "        vertical-align: middle;\n",
              "    }\n",
              "\n",
              "    .dataframe tbody tr th {\n",
              "        vertical-align: top;\n",
              "    }\n",
              "\n",
              "    .dataframe thead th {\n",
              "        text-align: right;\n",
              "    }\n",
              "</style>\n",
              "<table border=\"1\" class=\"dataframe\">\n",
              "  <thead>\n",
              "    <tr style=\"text-align: right;\">\n",
              "      <th></th>\n",
              "      <th>closing</th>\n",
              "    </tr>\n",
              "    <tr>\n",
              "      <th>date</th>\n",
              "      <th></th>\n",
              "    </tr>\n",
              "  </thead>\n",
              "  <tbody>\n",
              "    <tr>\n",
              "      <th>2015-10-13 00:00:00+00:00</th>\n",
              "      <td>683.17</td>\n",
              "    </tr>\n",
              "    <tr>\n",
              "      <th>2015-10-14 00:00:00+00:00</th>\n",
              "      <td>680.41</td>\n",
              "    </tr>\n",
              "    <tr>\n",
              "      <th>2015-10-15 00:00:00+00:00</th>\n",
              "      <td>693.02</td>\n",
              "    </tr>\n",
              "    <tr>\n",
              "      <th>2015-10-16 00:00:00+00:00</th>\n",
              "      <td>695.32</td>\n",
              "    </tr>\n",
              "    <tr>\n",
              "      <th>2015-10-19 00:00:00+00:00</th>\n",
              "      <td>699.95</td>\n",
              "    </tr>\n",
              "  </tbody>\n",
              "</table>\n",
              "</div>"
            ],
            "text/plain": [
              "                           closing\n",
              "date                              \n",
              "2015-10-13 00:00:00+00:00   683.17\n",
              "2015-10-14 00:00:00+00:00   680.41\n",
              "2015-10-15 00:00:00+00:00   693.02\n",
              "2015-10-16 00:00:00+00:00   695.32\n",
              "2015-10-19 00:00:00+00:00   699.95"
            ]
          },
          "metadata": {
            "tags": []
          },
          "execution_count": 43
        }
      ]
    },
    {
      "cell_type": "code",
      "metadata": {
        "id": "fuq5v5hFUPZ4"
      },
      "source": [
        "df3.reset_index(inplace = True)"
      ],
      "execution_count": 44,
      "outputs": []
    },
    {
      "cell_type": "code",
      "metadata": {
        "id": "VF7SwL2UdxOb"
      },
      "source": [
        "df3['date'] = list(df3['date'])"
      ],
      "execution_count": 45,
      "outputs": []
    },
    {
      "cell_type": "code",
      "metadata": {
        "id": "iy05CukJd8SV",
        "outputId": "93eee283-363a-4608-d92d-3cb6b6266109",
        "colab": {
          "base_uri": "https://localhost:8080/",
          "height": 195
        }
      },
      "source": [
        "df3.head()"
      ],
      "execution_count": 46,
      "outputs": [
        {
          "output_type": "execute_result",
          "data": {
            "text/html": [
              "<div>\n",
              "<style scoped>\n",
              "    .dataframe tbody tr th:only-of-type {\n",
              "        vertical-align: middle;\n",
              "    }\n",
              "\n",
              "    .dataframe tbody tr th {\n",
              "        vertical-align: top;\n",
              "    }\n",
              "\n",
              "    .dataframe thead th {\n",
              "        text-align: right;\n",
              "    }\n",
              "</style>\n",
              "<table border=\"1\" class=\"dataframe\">\n",
              "  <thead>\n",
              "    <tr style=\"text-align: right;\">\n",
              "      <th></th>\n",
              "      <th>date</th>\n",
              "      <th>closing</th>\n",
              "    </tr>\n",
              "  </thead>\n",
              "  <tbody>\n",
              "    <tr>\n",
              "      <th>0</th>\n",
              "      <td>2015-10-13 00:00:00+00:00</td>\n",
              "      <td>683.17</td>\n",
              "    </tr>\n",
              "    <tr>\n",
              "      <th>1</th>\n",
              "      <td>2015-10-14 00:00:00+00:00</td>\n",
              "      <td>680.41</td>\n",
              "    </tr>\n",
              "    <tr>\n",
              "      <th>2</th>\n",
              "      <td>2015-10-15 00:00:00+00:00</td>\n",
              "      <td>693.02</td>\n",
              "    </tr>\n",
              "    <tr>\n",
              "      <th>3</th>\n",
              "      <td>2015-10-16 00:00:00+00:00</td>\n",
              "      <td>695.32</td>\n",
              "    </tr>\n",
              "    <tr>\n",
              "      <th>4</th>\n",
              "      <td>2015-10-19 00:00:00+00:00</td>\n",
              "      <td>699.95</td>\n",
              "    </tr>\n",
              "  </tbody>\n",
              "</table>\n",
              "</div>"
            ],
            "text/plain": [
              "                        date  closing\n",
              "0  2015-10-13 00:00:00+00:00   683.17\n",
              "1  2015-10-14 00:00:00+00:00   680.41\n",
              "2  2015-10-15 00:00:00+00:00   693.02\n",
              "3  2015-10-16 00:00:00+00:00   695.32\n",
              "4  2015-10-19 00:00:00+00:00   699.95"
            ]
          },
          "metadata": {
            "tags": []
          },
          "execution_count": 46
        }
      ]
    },
    {
      "cell_type": "code",
      "metadata": {
        "id": "DD4X84kkUjZ4",
        "outputId": "968afeb7-ad30-4dbe-c9e9-a6b4be9732f9",
        "colab": {
          "base_uri": "https://localhost:8080/",
          "height": 67
        }
      },
      "source": [
        "df3.iloc[-29]"
      ],
      "execution_count": 47,
      "outputs": [
        {
          "output_type": "execute_result",
          "data": {
            "text/plain": [
              "date       2020-10-12 21:44:21.002390\n",
              "closing                       1355.67\n",
              "Name: 1259, dtype: object"
            ]
          },
          "metadata": {
            "tags": []
          },
          "execution_count": 47
        }
      ]
    },
    {
      "cell_type": "code",
      "metadata": {
        "id": "adsUcZrkdn8m"
      },
      "source": [
        ""
      ],
      "execution_count": 47,
      "outputs": []
    }
  ]
}